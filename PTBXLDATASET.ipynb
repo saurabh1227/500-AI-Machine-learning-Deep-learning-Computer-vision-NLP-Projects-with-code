{
  "nbformat": 4,
  "nbformat_minor": 0,
  "metadata": {
    "colab": {
      "name": "PTBXLDATASET.ipynb",
      "provenance": [],
      "authorship_tag": "ABX9TyNU/LC/gnZRD5O0TILhyhnu",
      "include_colab_link": true
    },
    "kernelspec": {
      "name": "python3",
      "display_name": "Python 3"
    },
    "language_info": {
      "name": "python"
    }
  },
  "cells": [
    {
      "cell_type": "markdown",
      "metadata": {
        "id": "view-in-github",
        "colab_type": "text"
      },
      "source": [
        "<a href=\"https://colab.research.google.com/github/saurabh1227/500-AI-Machine-learning-Deep-learning-Computer-vision-NLP-Projects-with-code/blob/main/PTBXLDATASET.ipynb\" target=\"_parent\"><img src=\"https://colab.research.google.com/assets/colab-badge.svg\" alt=\"Open In Colab\"/></a>"
      ]
    },
    {
      "cell_type": "code",
      "metadata": {
        "colab": {
          "base_uri": "https://localhost:8080/"
        },
        "id": "RUvwfOE56dRh",
        "outputId": "3b5b7c7a-6745-4ad4-fa24-a564251927f2"
      },
      "source": [
        "!pip install wfdb"
      ],
      "execution_count": 3,
      "outputs": [
        {
          "output_type": "stream",
          "text": [
            "Collecting wfdb\n",
            "  Downloading wfdb-3.4.0-py3-none-any.whl (137 kB)\n",
            "\u001b[?25l\r\u001b[K     |██▍                             | 10 kB 22.4 MB/s eta 0:00:01\r\u001b[K     |████▊                           | 20 kB 25.4 MB/s eta 0:00:01\r\u001b[K     |███████▏                        | 30 kB 27.8 MB/s eta 0:00:01\r\u001b[K     |█████████▌                      | 40 kB 21.9 MB/s eta 0:00:01\r\u001b[K     |████████████                    | 51 kB 19.6 MB/s eta 0:00:01\r\u001b[K     |██████████████▎                 | 61 kB 21.2 MB/s eta 0:00:01\r\u001b[K     |████████████████▊               | 71 kB 20.7 MB/s eta 0:00:01\r\u001b[K     |███████████████████             | 81 kB 20.5 MB/s eta 0:00:01\r\u001b[K     |█████████████████████▍          | 92 kB 20.5 MB/s eta 0:00:01\r\u001b[K     |███████████████████████▉        | 102 kB 21.4 MB/s eta 0:00:01\r\u001b[K     |██████████████████████████▏     | 112 kB 21.4 MB/s eta 0:00:01\r\u001b[K     |████████████████████████████▋   | 122 kB 21.4 MB/s eta 0:00:01\r\u001b[K     |███████████████████████████████ | 133 kB 21.4 MB/s eta 0:00:01\r\u001b[K     |████████████████████████████████| 137 kB 21.4 MB/s \n",
            "\u001b[?25hRequirement already satisfied: pyparsing>=2.0.4 in /usr/local/lib/python3.7/dist-packages (from wfdb) (2.4.7)\n",
            "Requirement already satisfied: idna>=2.2 in /usr/local/lib/python3.7/dist-packages (from wfdb) (2.10)\n",
            "Requirement already satisfied: pytz>=2017.2 in /usr/local/lib/python3.7/dist-packages (from wfdb) (2018.9)\n",
            "Requirement already satisfied: chardet>=3.0.0 in /usr/local/lib/python3.7/dist-packages (from wfdb) (3.0.4)\n",
            "Requirement already satisfied: scipy>=0.17.0 in /usr/local/lib/python3.7/dist-packages (from wfdb) (1.4.1)\n",
            "Requirement already satisfied: joblib>=0.11 in /usr/local/lib/python3.7/dist-packages (from wfdb) (1.0.1)\n",
            "Requirement already satisfied: urllib3>=1.22 in /usr/local/lib/python3.7/dist-packages (from wfdb) (1.24.3)\n",
            "Collecting threadpoolctl>=1.0.0\n",
            "  Downloading threadpoolctl-2.2.0-py3-none-any.whl (12 kB)\n",
            "Requirement already satisfied: cycler>=0.10.0 in /usr/local/lib/python3.7/dist-packages (from wfdb) (0.10.0)\n",
            "Requirement already satisfied: numpy>=1.10.1 in /usr/local/lib/python3.7/dist-packages (from wfdb) (1.19.5)\n",
            "Requirement already satisfied: requests>=2.8.1 in /usr/local/lib/python3.7/dist-packages (from wfdb) (2.23.0)\n",
            "Requirement already satisfied: certifi>=2016.8.2 in /usr/local/lib/python3.7/dist-packages (from wfdb) (2021.5.30)\n",
            "Requirement already satisfied: scikit-learn>=0.18 in /usr/local/lib/python3.7/dist-packages (from wfdb) (0.22.2.post1)\n",
            "Requirement already satisfied: pandas>=0.17.0 in /usr/local/lib/python3.7/dist-packages (from wfdb) (1.1.5)\n",
            "Requirement already satisfied: kiwisolver>=1.1.0 in /usr/local/lib/python3.7/dist-packages (from wfdb) (1.3.1)\n",
            "Requirement already satisfied: matplotlib>=2.0.0 in /usr/local/lib/python3.7/dist-packages (from wfdb) (3.2.2)\n",
            "Requirement already satisfied: python-dateutil>=2.4.2 in /usr/local/lib/python3.7/dist-packages (from wfdb) (2.8.1)\n",
            "Requirement already satisfied: six in /usr/local/lib/python3.7/dist-packages (from cycler>=0.10.0->wfdb) (1.15.0)\n",
            "Installing collected packages: threadpoolctl, wfdb\n",
            "Successfully installed threadpoolctl-2.2.0 wfdb-3.4.0\n"
          ],
          "name": "stdout"
        }
      ]
    },
    {
      "cell_type": "code",
      "metadata": {
        "id": "Gw2UhF7Y6l6V"
      },
      "source": [
        "import pandas as pd\n",
        "import numpy as np\n",
        "import wfdb\n",
        "import ast\n",
        "from tqdm import tqdm\n",
        "import warnings; warnings.filterwarnings('ignore')\n",
        "from IPython.display import display\n",
        "\n",
        "import matplotlib.pyplot as plt\n",
        "import seaborn as sns\n",
        "%matplotlib inline"
      ],
      "execution_count": 4,
      "outputs": []
    },
    {
      "cell_type": "code",
      "metadata": {
        "id": "vJuxMV9L6gcQ"
      },
      "source": [
        "def load_raw_data(df, sampling_rate, path):\n",
        "    if sampling_rate == 100:\n",
        "        data = [wfdb.rdsamp(path+f) for f in tqdm(df.filename_lr)]\n",
        "    else:\n",
        "        data = [wfdb.rdsamp(path+f) for f in tqdm(df.filename_hr)]\n",
        "    data = np.array([signal for signal, meta in data])\n",
        "    return data\n"
      ],
      "execution_count": 5,
      "outputs": []
    },
    {
      "cell_type": "markdown",
      "metadata": {
        "id": "DCbmilzS8CNx"
      },
      "source": [
        "#Abstract\n",
        "Electrocardiography (ECG) is a key diagnostic tool to assess the cardiac condition of a patient. Automatic ECG interpretation algorithms as diagnosis support systems promise large reliefs for the medical personnel - only on the basis of the number of ECGs that are routinely taken. However, the development of such algorithms requires large training datasets and clear benchmark procedures. In our opinion, both aspects are not covered satisfactorily by existing freely accessible ECG datasets.\n",
        "\n",
        "The PTB-XL ECG dataset is a large dataset of 21837 clinical 12-lead ECGs from 18885 patients of 10 second length. The raw waveform data was annotated by up to two cardiologists, who assigned potentially multiple ECG statements to each record. The in total 71 different ECG statements conform to the SCP-ECG standard and cover diagnostic, form, and rhythm statements. To ensure comparability of machine learning algorithms trained on the dataset, we provide recommended splits into training and test sets. In combination with the extensive annotation, this turns the dataset into a rich resource for the training and the evaluation of automatic ECG interpretation algorithms. The dataset is complemented by extensive metadata on demographics, infarction characteristics, likelihoods for diagnostic ECG statements as well as annotated signal properties.\n",
        "\n",
        "#Background\n",
        "\n",
        "Background\n",
        "The waveform data underlying the PTB-XL ECG dataset was collected with devices from Schiller AG over the course of nearly seven years between October 1989 and June 1996. With the acquisition of the original database from Schiller AG, the full usage rights were transferred to the PTB. The records were curated and converted into a structured database within a long-term project at the Physikalisch-Technische Bundesanstalt (PTB). The database was used in a number of publications, see e.g. [1,2], but the access remained restricted until now. The Institutional Ethics Committee approved the publication of the anonymous data in an open-access database (PTB-2020-1). During the public release process in 2019, the existing database was streamlined with particular regard to usability and accessibility for the machine learning community. Waveform and metadata were converted to open data formats that can easily processed by standard software."
      ]
    },
    {
      "cell_type": "markdown",
      "metadata": {
        "id": "7I6THfnR83Xk"
      },
      "source": [
        "#Methods\n",
        "#Data Acquisition\n",
        "Raw signal data was recorded and stored in a proprietary compressed format. For all signals, we provide the standard set of 12 leads (I, II, III, AVL, AVR, AVF, V1, …, V6) with reference electrodes on the right arm.\n",
        "The corresponding general metadata (such as age, sex, weight and height) was collected in a database.\n",
        "Each record was annotated with a report string (generated by cardiologist or automatic interpretation by ECG-device) which was converted into a standardized set of SCP-ECG statements (scp_codes). For most records also the heart’s axis (heart_axis) and infarction stadium (infarction_stadium1 and infarction_stadium2, if present) were extracted.\n",
        "A large fraction of the records was validated by a second cardiologist.\n",
        "All records were validated by a technical expert focusing mainly on signal characteristics."
      ]
    },
    {
      "cell_type": "markdown",
      "metadata": {
        "id": "PenajPXA9BFa"
      },
      "source": [
        "#Data Preprocessing\n",
        "ECGs and patients are identified by unique identifiers (ecg_id and patient_id). Personal information in the metadata, such as names of validating cardiologists, nurses and recording site (hospital etc.) of the recording was pseudonymized. The date of birth only as age at the time of the ECG recording, where ages of more than 89 years appear in the range of 300 years in compliance with HIPAA standards. Furthermore, all ECG recording dates were shifted by a random offset for each patient. The ECG statements used for annotating the records follow the SCP-ECG standard [3]."
      ]
    },
    {
      "cell_type": "markdown",
      "metadata": {
        "id": "25VqI9xU9zvf"
      },
      "source": [
        "#Data Description\n",
        "In general, the dataset is organized as follows:\n",
        "ptbxl\n",
        "├── ptbxl_database.csv\n",
        "├── scp_statements.csv\n",
        "├── records100\n",
        "├── 00000\n",
        "│   │   ├── 00001_lr.dat\n",
        "│   │   ├── 00001_lr.hea\n",
        "│   │   ├── ...\n",
        "│   │   ├── 00999_lr.dat\n",
        "│   │   └── 00999_lr.hea\n",
        "│   ├── ...\n",
        "│   └── 21000\n",
        "│        ├── 21001_lr.dat\n",
        "│        ├── 21001_lr.hea\n",
        "│        ├── ...\n",
        "│        ├── 21837_lr.dat\n",
        "│        └── 21837_lr.hea\n",
        "└── records500\n",
        "   ├── 00000\n",
        "   │     ├── 00001_hr.dat\n",
        "   │     ├── 00001_hr.hea\n",
        "   │     ├── ...\n",
        "   │     ├── 00999_hr.dat\n",
        "   │     └── 00999_hr.hea\n",
        "   ├── ...\n",
        "   └── 21000\n",
        "          ├── 21001_hr.dat\n",
        "          ├── 21001_hr.hea\n",
        "          ├── ...\n",
        "          ├── 21837_hr.dat\n",
        "          └── 21837_hr.hea\n"
      ]
    },
    {
      "cell_type": "markdown",
      "metadata": {
        "id": "nRdwmd7D-Q73"
      },
      "source": [
        "The dataset comprises 21837 clinical 12-lead ECG records of 10 seconds length from 18885 patients, where 52% are male and 48% are female with ages covering the whole range from 0 to 95 years (median 62 and interquantile range of 22). The value of the dataset results from the comprehensive collection of many different co-occurring pathologies, but also from a large proportion of healthy control samples. The distribution of diagnosis is as follows, where we restrict for simplicity to diagnostic statements aggregated into superclasses (note: sum of statements exceeds the number of records because of potentially multiple labels per record):"
      ]
    },
    {
      "cell_type": "markdown",
      "metadata": {
        "id": "TW7JVKhK-bbP"
      },
      "source": [
        "The waveform files are stored in WaveForm DataBase (WFDB) format with 16 bit precision at a resolution of 1μV/LSB and a sampling frequency of 500Hz (records500/). For the user’s convenience we also release a downsampled versions of the waveform data at a sampling frequency of 100Hz (records100/).\n",
        "\n",
        "All relevant metadata is stored in ptbxldatabase.csv with one row per record identified by ecgid. It contains 28 columns that can be categorized into:\n",
        "\n",
        "Identifiers: Each record is identified by a unique ecg_id. The corresponding patient is encoded via patient_id. The paths to the original record (500 Hz) and a downsampled version of the record (100 Hz) are stored in filename_hr and filename_lr.\n",
        "General Metadata: demographic and recording metadata such as age, sex, height, weight, nurse, site, device and recording_date\n",
        "ECG statements: core components are scp_codes (SCP-ECG statements as a dictionary with entries of the form statement: likelihood, where likelihood is set to 0 if unknown) and report (report string). Additional fields are heart_axis, infarction_stadium1, infarction_stadium2, validated_by, second_opinion, initial_autogenerated_report and validated_by_human.\n",
        "Signal Metadata: signal quality such as noise (static_noise and burst_noise), baseline drifts (baseline_drift) and other artifacts such as electrodes_problems. We also provide extra_beats for counting extra systoles and pacemaker for signal patterns indicating an active pacemaker.\n",
        "Cross-validation Folds: recommended 10-fold train-test splits (strat_fold) obtained via stratified sampling while respecting patient assignments, i.e. all records of a particular patient were assigned to the same fold. Records in fold 9 and 10 underwent at least one human evaluation and are therefore of a particularly high label quality. We therefore propose to use folds 1-8 as training set, fold 9 as validation set and fold 10 as test set.\n",
        "All information related to the used annotation scheme is stored in a dedicated scp_statements.csv that was enriched with mappings to other annotation standards such as AHA, aECGREFID, CDISC and DICOM. We provide additional side-information such as the category each statement can be assigned to (diagnostic, form and/or rhythm). For diagnostic statements, we also provide a proposed hierarchical organization into diagnostic_class and diagnostic_subclass."
      ]
    },
    {
      "cell_type": "markdown",
      "metadata": {
        "id": "ddwb16Us-Whr"
      },
      "source": [
        "Records | Superclass | Description\n",
        "9528 | NORM | Normal ECG\n",
        "5486 | MI | Myocardial Infarction\n",
        "5250 | STTC | ST/T Change\n",
        "4907 | CD | Conduction Disturbance\n",
        "2655 | HYP | Hypertrophy"
      ]
    },
    {
      "cell_type": "markdown",
      "metadata": {
        "id": "453yUDi3-mv-"
      },
      "source": [
        "Usage Notes\n",
        "In example_physionet.py we provide a minimal usage example that shows how to load waveform data (numpy-arrays X_train and X_test) and labels (y_train and y_test) making use of the proposed train-test split. For illustration, we use diagnostic subclass statements as labels based on the assignments in scp_statements.csv."
      ]
    },
    {
      "cell_type": "code",
      "metadata": {
        "colab": {
          "base_uri": "https://localhost:8080/",
          "height": 946
        },
        "id": "y-3GjBlu6u2o",
        "outputId": "46598248-6bba-4701-8db8-30745af11b01"
      },
      "source": [
        "#path = '../content/sample_data/ptbxl_database.csv/ptb-xl-a-large-publicly-available-electrocardiography-dataset-1.0.1/'\n",
        "sampling_rate=100\n",
        "\n",
        "# load and convert annotation data\n",
        "Y = pd.read_csv('/content/sample_data/ptbxl_database.csv', index_col='ecg_id')\n",
        "Y.scp_codes = Y.scp_codes.apply(lambda x: ast.literal_eval(x))\n",
        "\n",
        "# Load raw signal data\n",
        "#X = load_raw_data(Y, sampling_rate)\n",
        "\n",
        "#print('data shpae:', X.shape)\n",
        "Y[['scp_codes']]\n",
        "Y"
      ],
      "execution_count": 25,
      "outputs": [
        {
          "output_type": "execute_result",
          "data": {
            "text/html": [
              "<div>\n",
              "<style scoped>\n",
              "    .dataframe tbody tr th:only-of-type {\n",
              "        vertical-align: middle;\n",
              "    }\n",
              "\n",
              "    .dataframe tbody tr th {\n",
              "        vertical-align: top;\n",
              "    }\n",
              "\n",
              "    .dataframe thead th {\n",
              "        text-align: right;\n",
              "    }\n",
              "</style>\n",
              "<table border=\"1\" class=\"dataframe\">\n",
              "  <thead>\n",
              "    <tr style=\"text-align: right;\">\n",
              "      <th></th>\n",
              "      <th>patient_id</th>\n",
              "      <th>age</th>\n",
              "      <th>sex</th>\n",
              "      <th>height</th>\n",
              "      <th>weight</th>\n",
              "      <th>nurse</th>\n",
              "      <th>site</th>\n",
              "      <th>device</th>\n",
              "      <th>recording_date</th>\n",
              "      <th>report</th>\n",
              "      <th>scp_codes</th>\n",
              "      <th>heart_axis</th>\n",
              "      <th>infarction_stadium1</th>\n",
              "      <th>infarction_stadium2</th>\n",
              "      <th>validated_by</th>\n",
              "      <th>second_opinion</th>\n",
              "      <th>initial_autogenerated_report</th>\n",
              "      <th>validated_by_human</th>\n",
              "      <th>baseline_drift</th>\n",
              "      <th>static_noise</th>\n",
              "      <th>burst_noise</th>\n",
              "      <th>electrodes_problems</th>\n",
              "      <th>extra_beats</th>\n",
              "      <th>pacemaker</th>\n",
              "      <th>strat_fold</th>\n",
              "      <th>filename_lr</th>\n",
              "      <th>filename_hr</th>\n",
              "    </tr>\n",
              "    <tr>\n",
              "      <th>ecg_id</th>\n",
              "      <th></th>\n",
              "      <th></th>\n",
              "      <th></th>\n",
              "      <th></th>\n",
              "      <th></th>\n",
              "      <th></th>\n",
              "      <th></th>\n",
              "      <th></th>\n",
              "      <th></th>\n",
              "      <th></th>\n",
              "      <th></th>\n",
              "      <th></th>\n",
              "      <th></th>\n",
              "      <th></th>\n",
              "      <th></th>\n",
              "      <th></th>\n",
              "      <th></th>\n",
              "      <th></th>\n",
              "      <th></th>\n",
              "      <th></th>\n",
              "      <th></th>\n",
              "      <th></th>\n",
              "      <th></th>\n",
              "      <th></th>\n",
              "      <th></th>\n",
              "      <th></th>\n",
              "      <th></th>\n",
              "    </tr>\n",
              "  </thead>\n",
              "  <tbody>\n",
              "    <tr>\n",
              "      <th>1</th>\n",
              "      <td>15709.0</td>\n",
              "      <td>56.0</td>\n",
              "      <td>1</td>\n",
              "      <td>NaN</td>\n",
              "      <td>63.0</td>\n",
              "      <td>2.0</td>\n",
              "      <td>0.0</td>\n",
              "      <td>CS-12   E</td>\n",
              "      <td>1984-11-09 09:17:34</td>\n",
              "      <td>sinusrhythmus periphere niederspannung</td>\n",
              "      <td>{'NORM': 100.0, 'LVOLT': 0.0, 'SR': 0.0}</td>\n",
              "      <td>NaN</td>\n",
              "      <td>NaN</td>\n",
              "      <td>NaN</td>\n",
              "      <td>NaN</td>\n",
              "      <td>False</td>\n",
              "      <td>False</td>\n",
              "      <td>True</td>\n",
              "      <td>NaN</td>\n",
              "      <td>, I-V1,</td>\n",
              "      <td>NaN</td>\n",
              "      <td>NaN</td>\n",
              "      <td>NaN</td>\n",
              "      <td>NaN</td>\n",
              "      <td>3</td>\n",
              "      <td>records100/00000/00001_lr</td>\n",
              "      <td>records500/00000/00001_hr</td>\n",
              "    </tr>\n",
              "    <tr>\n",
              "      <th>2</th>\n",
              "      <td>13243.0</td>\n",
              "      <td>19.0</td>\n",
              "      <td>0</td>\n",
              "      <td>NaN</td>\n",
              "      <td>70.0</td>\n",
              "      <td>2.0</td>\n",
              "      <td>0.0</td>\n",
              "      <td>CS-12   E</td>\n",
              "      <td>1984-11-14 12:55:37</td>\n",
              "      <td>sinusbradykardie sonst normales ekg</td>\n",
              "      <td>{'NORM': 80.0, 'SBRAD': 0.0}</td>\n",
              "      <td>NaN</td>\n",
              "      <td>NaN</td>\n",
              "      <td>NaN</td>\n",
              "      <td>NaN</td>\n",
              "      <td>False</td>\n",
              "      <td>False</td>\n",
              "      <td>True</td>\n",
              "      <td>NaN</td>\n",
              "      <td>NaN</td>\n",
              "      <td>NaN</td>\n",
              "      <td>NaN</td>\n",
              "      <td>NaN</td>\n",
              "      <td>NaN</td>\n",
              "      <td>2</td>\n",
              "      <td>records100/00000/00002_lr</td>\n",
              "      <td>records500/00000/00002_hr</td>\n",
              "    </tr>\n",
              "    <tr>\n",
              "      <th>3</th>\n",
              "      <td>20372.0</td>\n",
              "      <td>37.0</td>\n",
              "      <td>1</td>\n",
              "      <td>NaN</td>\n",
              "      <td>69.0</td>\n",
              "      <td>2.0</td>\n",
              "      <td>0.0</td>\n",
              "      <td>CS-12   E</td>\n",
              "      <td>1984-11-15 12:49:10</td>\n",
              "      <td>sinusrhythmus normales ekg</td>\n",
              "      <td>{'NORM': 100.0, 'SR': 0.0}</td>\n",
              "      <td>NaN</td>\n",
              "      <td>NaN</td>\n",
              "      <td>NaN</td>\n",
              "      <td>NaN</td>\n",
              "      <td>False</td>\n",
              "      <td>False</td>\n",
              "      <td>True</td>\n",
              "      <td>NaN</td>\n",
              "      <td>NaN</td>\n",
              "      <td>NaN</td>\n",
              "      <td>NaN</td>\n",
              "      <td>NaN</td>\n",
              "      <td>NaN</td>\n",
              "      <td>5</td>\n",
              "      <td>records100/00000/00003_lr</td>\n",
              "      <td>records500/00000/00003_hr</td>\n",
              "    </tr>\n",
              "    <tr>\n",
              "      <th>4</th>\n",
              "      <td>17014.0</td>\n",
              "      <td>24.0</td>\n",
              "      <td>0</td>\n",
              "      <td>NaN</td>\n",
              "      <td>82.0</td>\n",
              "      <td>2.0</td>\n",
              "      <td>0.0</td>\n",
              "      <td>CS-12   E</td>\n",
              "      <td>1984-11-15 13:44:57</td>\n",
              "      <td>sinusrhythmus normales ekg</td>\n",
              "      <td>{'NORM': 100.0, 'SR': 0.0}</td>\n",
              "      <td>NaN</td>\n",
              "      <td>NaN</td>\n",
              "      <td>NaN</td>\n",
              "      <td>NaN</td>\n",
              "      <td>False</td>\n",
              "      <td>False</td>\n",
              "      <td>True</td>\n",
              "      <td>, II,III,AVF</td>\n",
              "      <td>NaN</td>\n",
              "      <td>NaN</td>\n",
              "      <td>NaN</td>\n",
              "      <td>NaN</td>\n",
              "      <td>NaN</td>\n",
              "      <td>3</td>\n",
              "      <td>records100/00000/00004_lr</td>\n",
              "      <td>records500/00000/00004_hr</td>\n",
              "    </tr>\n",
              "    <tr>\n",
              "      <th>5</th>\n",
              "      <td>17448.0</td>\n",
              "      <td>19.0</td>\n",
              "      <td>1</td>\n",
              "      <td>NaN</td>\n",
              "      <td>70.0</td>\n",
              "      <td>2.0</td>\n",
              "      <td>0.0</td>\n",
              "      <td>CS-12   E</td>\n",
              "      <td>1984-11-17 10:43:15</td>\n",
              "      <td>sinusrhythmus normales ekg</td>\n",
              "      <td>{'NORM': 100.0, 'SR': 0.0}</td>\n",
              "      <td>NaN</td>\n",
              "      <td>NaN</td>\n",
              "      <td>NaN</td>\n",
              "      <td>NaN</td>\n",
              "      <td>False</td>\n",
              "      <td>False</td>\n",
              "      <td>True</td>\n",
              "      <td>, III,AVR,AVF</td>\n",
              "      <td>NaN</td>\n",
              "      <td>NaN</td>\n",
              "      <td>NaN</td>\n",
              "      <td>NaN</td>\n",
              "      <td>NaN</td>\n",
              "      <td>4</td>\n",
              "      <td>records100/00000/00005_lr</td>\n",
              "      <td>records500/00000/00005_hr</td>\n",
              "    </tr>\n",
              "    <tr>\n",
              "      <th>...</th>\n",
              "      <td>...</td>\n",
              "      <td>...</td>\n",
              "      <td>...</td>\n",
              "      <td>...</td>\n",
              "      <td>...</td>\n",
              "      <td>...</td>\n",
              "      <td>...</td>\n",
              "      <td>...</td>\n",
              "      <td>...</td>\n",
              "      <td>...</td>\n",
              "      <td>...</td>\n",
              "      <td>...</td>\n",
              "      <td>...</td>\n",
              "      <td>...</td>\n",
              "      <td>...</td>\n",
              "      <td>...</td>\n",
              "      <td>...</td>\n",
              "      <td>...</td>\n",
              "      <td>...</td>\n",
              "      <td>...</td>\n",
              "      <td>...</td>\n",
              "      <td>...</td>\n",
              "      <td>...</td>\n",
              "      <td>...</td>\n",
              "      <td>...</td>\n",
              "      <td>...</td>\n",
              "      <td>...</td>\n",
              "    </tr>\n",
              "    <tr>\n",
              "      <th>21833</th>\n",
              "      <td>17180.0</td>\n",
              "      <td>67.0</td>\n",
              "      <td>1</td>\n",
              "      <td>NaN</td>\n",
              "      <td>NaN</td>\n",
              "      <td>1.0</td>\n",
              "      <td>2.0</td>\n",
              "      <td>AT-60    3</td>\n",
              "      <td>2001-05-31 09:14:35</td>\n",
              "      <td>ventrikulÄre extrasystole(n) sinustachykardie ...</td>\n",
              "      <td>{'NDT': 100.0, 'PVC': 100.0, 'VCLVH': 0.0, 'ST...</td>\n",
              "      <td>LAD</td>\n",
              "      <td>NaN</td>\n",
              "      <td>NaN</td>\n",
              "      <td>1.0</td>\n",
              "      <td>False</td>\n",
              "      <td>True</td>\n",
              "      <td>True</td>\n",
              "      <td>NaN</td>\n",
              "      <td>, alles,</td>\n",
              "      <td>NaN</td>\n",
              "      <td>NaN</td>\n",
              "      <td>1ES</td>\n",
              "      <td>NaN</td>\n",
              "      <td>7</td>\n",
              "      <td>records100/21000/21833_lr</td>\n",
              "      <td>records500/21000/21833_hr</td>\n",
              "    </tr>\n",
              "    <tr>\n",
              "      <th>21834</th>\n",
              "      <td>20703.0</td>\n",
              "      <td>93.0</td>\n",
              "      <td>0</td>\n",
              "      <td>NaN</td>\n",
              "      <td>NaN</td>\n",
              "      <td>1.0</td>\n",
              "      <td>2.0</td>\n",
              "      <td>AT-60    3</td>\n",
              "      <td>2001-06-05 11:33:39</td>\n",
              "      <td>sinusrhythmus lagetyp normal qrs(t) abnorm    ...</td>\n",
              "      <td>{'NORM': 100.0, 'ABQRS': 0.0, 'SR': 0.0}</td>\n",
              "      <td>MID</td>\n",
              "      <td>Stadium II-III</td>\n",
              "      <td>NaN</td>\n",
              "      <td>1.0</td>\n",
              "      <td>False</td>\n",
              "      <td>True</td>\n",
              "      <td>True</td>\n",
              "      <td>NaN</td>\n",
              "      <td>NaN</td>\n",
              "      <td>NaN</td>\n",
              "      <td>NaN</td>\n",
              "      <td>NaN</td>\n",
              "      <td>NaN</td>\n",
              "      <td>4</td>\n",
              "      <td>records100/21000/21834_lr</td>\n",
              "      <td>records500/21000/21834_hr</td>\n",
              "    </tr>\n",
              "    <tr>\n",
              "      <th>21835</th>\n",
              "      <td>19311.0</td>\n",
              "      <td>59.0</td>\n",
              "      <td>1</td>\n",
              "      <td>NaN</td>\n",
              "      <td>NaN</td>\n",
              "      <td>1.0</td>\n",
              "      <td>2.0</td>\n",
              "      <td>AT-60    3</td>\n",
              "      <td>2001-06-08 10:30:27</td>\n",
              "      <td>sinusrhythmus lagetyp normal t abnorm in anter...</td>\n",
              "      <td>{'ISCAS': 50.0, 'SR': 0.0}</td>\n",
              "      <td>MID</td>\n",
              "      <td>NaN</td>\n",
              "      <td>NaN</td>\n",
              "      <td>1.0</td>\n",
              "      <td>True</td>\n",
              "      <td>True</td>\n",
              "      <td>True</td>\n",
              "      <td>NaN</td>\n",
              "      <td>, I-AVR,</td>\n",
              "      <td>NaN</td>\n",
              "      <td>NaN</td>\n",
              "      <td>NaN</td>\n",
              "      <td>NaN</td>\n",
              "      <td>2</td>\n",
              "      <td>records100/21000/21835_lr</td>\n",
              "      <td>records500/21000/21835_hr</td>\n",
              "    </tr>\n",
              "    <tr>\n",
              "      <th>21836</th>\n",
              "      <td>8873.0</td>\n",
              "      <td>64.0</td>\n",
              "      <td>1</td>\n",
              "      <td>NaN</td>\n",
              "      <td>NaN</td>\n",
              "      <td>1.0</td>\n",
              "      <td>2.0</td>\n",
              "      <td>AT-60    3</td>\n",
              "      <td>2001-06-09 18:21:49</td>\n",
              "      <td>supraventrikulÄre extrasystole(n) sinusrhythmu...</td>\n",
              "      <td>{'NORM': 100.0, 'SR': 0.0}</td>\n",
              "      <td>LAD</td>\n",
              "      <td>NaN</td>\n",
              "      <td>NaN</td>\n",
              "      <td>1.0</td>\n",
              "      <td>False</td>\n",
              "      <td>True</td>\n",
              "      <td>True</td>\n",
              "      <td>NaN</td>\n",
              "      <td>NaN</td>\n",
              "      <td>NaN</td>\n",
              "      <td>NaN</td>\n",
              "      <td>SVES</td>\n",
              "      <td>NaN</td>\n",
              "      <td>8</td>\n",
              "      <td>records100/21000/21836_lr</td>\n",
              "      <td>records500/21000/21836_hr</td>\n",
              "    </tr>\n",
              "    <tr>\n",
              "      <th>21837</th>\n",
              "      <td>11744.0</td>\n",
              "      <td>68.0</td>\n",
              "      <td>0</td>\n",
              "      <td>NaN</td>\n",
              "      <td>NaN</td>\n",
              "      <td>1.0</td>\n",
              "      <td>2.0</td>\n",
              "      <td>AT-60    3</td>\n",
              "      <td>2001-06-11 16:43:01</td>\n",
              "      <td>sinusrhythmus p-sinistrocardiale lagetyp norma...</td>\n",
              "      <td>{'NORM': 100.0, 'SR': 0.0}</td>\n",
              "      <td>MID</td>\n",
              "      <td>NaN</td>\n",
              "      <td>NaN</td>\n",
              "      <td>1.0</td>\n",
              "      <td>False</td>\n",
              "      <td>True</td>\n",
              "      <td>True</td>\n",
              "      <td>NaN</td>\n",
              "      <td>, I-AVL,</td>\n",
              "      <td>NaN</td>\n",
              "      <td>NaN</td>\n",
              "      <td>NaN</td>\n",
              "      <td>NaN</td>\n",
              "      <td>9</td>\n",
              "      <td>records100/21000/21837_lr</td>\n",
              "      <td>records500/21000/21837_hr</td>\n",
              "    </tr>\n",
              "  </tbody>\n",
              "</table>\n",
              "<p>21837 rows × 27 columns</p>\n",
              "</div>"
            ],
            "text/plain": [
              "        patient_id   age  ...                filename_lr                filename_hr\n",
              "ecg_id                    ...                                                      \n",
              "1          15709.0  56.0  ...  records100/00000/00001_lr  records500/00000/00001_hr\n",
              "2          13243.0  19.0  ...  records100/00000/00002_lr  records500/00000/00002_hr\n",
              "3          20372.0  37.0  ...  records100/00000/00003_lr  records500/00000/00003_hr\n",
              "4          17014.0  24.0  ...  records100/00000/00004_lr  records500/00000/00004_hr\n",
              "5          17448.0  19.0  ...  records100/00000/00005_lr  records500/00000/00005_hr\n",
              "...            ...   ...  ...                        ...                        ...\n",
              "21833      17180.0  67.0  ...  records100/21000/21833_lr  records500/21000/21833_hr\n",
              "21834      20703.0  93.0  ...  records100/21000/21834_lr  records500/21000/21834_hr\n",
              "21835      19311.0  59.0  ...  records100/21000/21835_lr  records500/21000/21835_hr\n",
              "21836       8873.0  64.0  ...  records100/21000/21836_lr  records500/21000/21836_hr\n",
              "21837      11744.0  68.0  ...  records100/21000/21837_lr  records500/21000/21837_hr\n",
              "\n",
              "[21837 rows x 27 columns]"
            ]
          },
          "metadata": {
            "tags": []
          },
          "execution_count": 25
        }
      ]
    },
    {
      "cell_type": "code",
      "metadata": {
        "colab": {
          "base_uri": "https://localhost:8080/"
        },
        "id": "s4e2HOqTAtFb",
        "outputId": "d8ef958d-3240-47cc-8c51-51ec2903194a"
      },
      "source": [
        "Y.shape"
      ],
      "execution_count": 14,
      "outputs": [
        {
          "output_type": "execute_result",
          "data": {
            "text/plain": [
              "(21837, 27)"
            ]
          },
          "metadata": {
            "tags": []
          },
          "execution_count": 14
        }
      ]
    },
    {
      "cell_type": "markdown",
      "metadata": {
        "id": "7UHmaR40C4E2"
      },
      "source": [
        "#Load Data for Heart Beat Diagnostic"
      ]
    },
    {
      "cell_type": "code",
      "metadata": {
        "colab": {
          "base_uri": "https://localhost:8080/",
          "height": 445
        },
        "id": "_aR0feOvC6ab",
        "outputId": "26a3c88e-6177-4726-cb24-61a68fd3f8aa"
      },
      "source": [
        "# Load scp_statements.csv for diagnostic aggregation\n",
        "agg_df = pd.read_csv('/content/sample_data/scp_statements.csv', index_col=0)\n",
        "agg_df = agg_df[agg_df.diagnostic == 1]\n",
        "print(agg_df.shape)\n",
        "agg_df.head()"
      ],
      "execution_count": 26,
      "outputs": [
        {
          "output_type": "stream",
          "text": [
            "(44, 12)\n"
          ],
          "name": "stdout"
        },
        {
          "output_type": "execute_result",
          "data": {
            "text/html": [
              "<div>\n",
              "<style scoped>\n",
              "    .dataframe tbody tr th:only-of-type {\n",
              "        vertical-align: middle;\n",
              "    }\n",
              "\n",
              "    .dataframe tbody tr th {\n",
              "        vertical-align: top;\n",
              "    }\n",
              "\n",
              "    .dataframe thead th {\n",
              "        text-align: right;\n",
              "    }\n",
              "</style>\n",
              "<table border=\"1\" class=\"dataframe\">\n",
              "  <thead>\n",
              "    <tr style=\"text-align: right;\">\n",
              "      <th></th>\n",
              "      <th>description</th>\n",
              "      <th>diagnostic</th>\n",
              "      <th>form</th>\n",
              "      <th>rhythm</th>\n",
              "      <th>diagnostic_class</th>\n",
              "      <th>diagnostic_subclass</th>\n",
              "      <th>Statement Category</th>\n",
              "      <th>SCP-ECG Statement Description</th>\n",
              "      <th>AHA code</th>\n",
              "      <th>aECG REFID</th>\n",
              "      <th>CDISC Code</th>\n",
              "      <th>DICOM Code</th>\n",
              "    </tr>\n",
              "  </thead>\n",
              "  <tbody>\n",
              "    <tr>\n",
              "      <th>NDT</th>\n",
              "      <td>non-diagnostic T abnormalities</td>\n",
              "      <td>1.0</td>\n",
              "      <td>1.0</td>\n",
              "      <td>NaN</td>\n",
              "      <td>STTC</td>\n",
              "      <td>STTC</td>\n",
              "      <td>other ST-T descriptive statements</td>\n",
              "      <td>non-diagnostic T abnormalities</td>\n",
              "      <td>NaN</td>\n",
              "      <td>NaN</td>\n",
              "      <td>NaN</td>\n",
              "      <td>NaN</td>\n",
              "    </tr>\n",
              "    <tr>\n",
              "      <th>NST_</th>\n",
              "      <td>non-specific ST changes</td>\n",
              "      <td>1.0</td>\n",
              "      <td>1.0</td>\n",
              "      <td>NaN</td>\n",
              "      <td>STTC</td>\n",
              "      <td>NST_</td>\n",
              "      <td>Basic roots for coding ST-T changes and abnorm...</td>\n",
              "      <td>non-specific ST changes</td>\n",
              "      <td>145.0</td>\n",
              "      <td>MDC_ECG_RHY_STHILOST</td>\n",
              "      <td>NaN</td>\n",
              "      <td>NaN</td>\n",
              "    </tr>\n",
              "    <tr>\n",
              "      <th>DIG</th>\n",
              "      <td>digitalis-effect</td>\n",
              "      <td>1.0</td>\n",
              "      <td>1.0</td>\n",
              "      <td>NaN</td>\n",
              "      <td>STTC</td>\n",
              "      <td>STTC</td>\n",
              "      <td>other ST-T descriptive statements</td>\n",
              "      <td>suggests digitalis-effect</td>\n",
              "      <td>205.0</td>\n",
              "      <td>NaN</td>\n",
              "      <td>NaN</td>\n",
              "      <td>NaN</td>\n",
              "    </tr>\n",
              "    <tr>\n",
              "      <th>LNGQT</th>\n",
              "      <td>long QT-interval</td>\n",
              "      <td>1.0</td>\n",
              "      <td>1.0</td>\n",
              "      <td>NaN</td>\n",
              "      <td>STTC</td>\n",
              "      <td>STTC</td>\n",
              "      <td>other ST-T descriptive statements</td>\n",
              "      <td>long QT-interval</td>\n",
              "      <td>148.0</td>\n",
              "      <td>NaN</td>\n",
              "      <td>NaN</td>\n",
              "      <td>NaN</td>\n",
              "    </tr>\n",
              "    <tr>\n",
              "      <th>NORM</th>\n",
              "      <td>normal ECG</td>\n",
              "      <td>1.0</td>\n",
              "      <td>NaN</td>\n",
              "      <td>NaN</td>\n",
              "      <td>NORM</td>\n",
              "      <td>NORM</td>\n",
              "      <td>Normal/abnormal</td>\n",
              "      <td>normal ECG</td>\n",
              "      <td>1.0</td>\n",
              "      <td>NaN</td>\n",
              "      <td>NaN</td>\n",
              "      <td>F-000B7</td>\n",
              "    </tr>\n",
              "  </tbody>\n",
              "</table>\n",
              "</div>"
            ],
            "text/plain": [
              "                          description  diagnostic  ...  CDISC Code  DICOM Code\n",
              "NDT    non-diagnostic T abnormalities         1.0  ...         NaN         NaN\n",
              "NST_          non-specific ST changes         1.0  ...         NaN         NaN\n",
              "DIG                  digitalis-effect         1.0  ...         NaN         NaN\n",
              "LNGQT                long QT-interval         1.0  ...         NaN         NaN\n",
              "NORM                       normal ECG         1.0  ...         NaN     F-000B7\n",
              "\n",
              "[5 rows x 12 columns]"
            ]
          },
          "metadata": {
            "tags": []
          },
          "execution_count": 26
        }
      ]
    },
    {
      "cell_type": "code",
      "metadata": {
        "colab": {
          "base_uri": "https://localhost:8080/"
        },
        "id": "HUAVl_KqC3DK",
        "outputId": "6d43a445-f38e-42d7-cb7a-005a0b849b34"
      },
      "source": [
        "def aggregate_supclass_diagnostic(y_dic):\n",
        "    tmp = []\n",
        "    for key in y_dic.keys():\n",
        "        if key in agg_df.index:\n",
        "            tmp.append(agg_df.loc[key].diagnostic_class)\n",
        "    return list(set(tmp))\n",
        "    \n",
        "# Apply diagnostic superclass\n",
        "Y['diagnostic_superclass'] = Y.scp_codes.apply(aggregate_supclass_diagnostic)\n",
        "Y['diagnostic_superclass_len'] = Y['diagnostic_superclass'].apply(len)\n",
        "Y.loc[Y.diagnostic_superclass_len > 1, 'diagnostic_superclass']"
      ],
      "execution_count": 27,
      "outputs": [
        {
          "output_type": "execute_result",
          "data": {
            "text/plain": [
              "ecg_id\n",
              "39       [STTC, MI]\n",
              "45        [HYP, CD]\n",
              "50         [MI, CD]\n",
              "77         [MI, CD]\n",
              "87       [STTC, CD]\n",
              "            ...    \n",
              "21815      [MI, CD]\n",
              "21821    [NORM, CD]\n",
              "21827    [STTC, MI]\n",
              "21828    [STTC, MI]\n",
              "21829    [NORM, CD]\n",
              "Name: diagnostic_superclass, Length: 5158, dtype: object"
            ]
          },
          "metadata": {
            "tags": []
          },
          "execution_count": 27
        }
      ]
    },
    {
      "cell_type": "markdown",
      "metadata": {
        "id": "1CwnSqmfEbzc"
      },
      "source": [
        "#Number of Superclass per ECG record"
      ]
    },
    {
      "cell_type": "code",
      "metadata": {
        "colab": {
          "base_uri": "https://localhost:8080/",
          "height": 409
        },
        "id": "NlVM91cEBDCB",
        "outputId": "2f4fd08f-bd77-4d77-86f4-9222e873a84b"
      },
      "source": [
        "vc = Y['diagnostic_superclass_len'].value_counts()\n",
        "\n",
        "sns.set_style(\"whitegrid\")\n",
        "bar,ax = plt.subplots(figsize=(10,6))\n",
        "ax = sns.barplot(x=vc.values/vc.values.sum()*100., y=vc.index, ci=None, palette=\"muted\",orient='h' )\n",
        "ax.set_title(\"Diagnostic Superclass Len Distribution\", fontsize=20)\n",
        "ax.set_xlabel (\"percentage over all samples\")\n",
        "ax.set_ylabel (\"diagnostic_superclass_len\")\n",
        "for rect in ax.patches:\n",
        "    ax.text (rect.get_width(), rect.get_y() + rect.get_height() / 2,\"%.1f%%\"% rect.get_width(), weight='bold' )"
      ],
      "execution_count": 28,
      "outputs": [
        {
          "output_type": "display_data",
          "data": {
            "image/png": "[encoded data removed]",
            "text/plain": [
              "<Figure size 720x432 with 1 Axes>"
            ]
          },
          "metadata": {
            "tags": []
          }
        }
      ]
    },
    {
      "cell_type": "markdown",
      "metadata": {
        "id": "Zze3mmG3FPcf"
      },
      "source": [
        "There could be up to 4 super class for the same ecg record!"
      ]
    },
    {
      "cell_type": "markdown",
      "metadata": {
        "id": "BTgYefWpFTMR"
      },
      "source": [
        "#Meaning of Superclassses¶\n",
        "\n",
        "#NORM: Normal ECG\n",
        "#MI: Myocardial Infarction, a myocardial infarction (MI), commonly known as a heart attack, occurs when blood flow decreases or stops to a part of the heart, causing damage to the heart muscle Reference\n",
        "#STTC: ST/T Change, ST and T wave changes may represent cardiac pathology or be a normal variant. Interpretation of the findings, therefore, depends on the clinical context and presence of similar findings on prior electrocardiograms.Reference\n",
        "#CD: Conduction Disturbance. Your heart rhythm is the way your heart beats. Conduction is how electrical impulses travel through your heart, which causes it to beat. Some conduction disorders can cause arrhythmias, or irregular heartbeats. Reference\n",
        "#HYP: Hypertrophy, Hypertrophic cardiomyopathy (HCM) is a disease in which the heart muscle becomes abnormally thick (hypertrophied). The thickened heart muscle can make it harder for the heart to pump blood. Reference"
      ]
    },
    {
      "cell_type": "code",
      "metadata": {
        "colab": {
          "base_uri": "https://localhost:8080/"
        },
        "id": "YyEOMyGLFVfh",
        "outputId": "8a964a11-1751-4d56-b40c-ec80691b993a"
      },
      "source": [
        "def aggregate_subclass_diagnostic(y_dic):\n",
        "    tmp = []\n",
        "    for key in y_dic.keys():\n",
        "        if key in agg_df.index:\n",
        "            tmp.append(agg_df.loc[key].diagnostic_subclass)\n",
        "    ret = list(set(tmp))\n",
        "    ret = ['sub_'+r for r in ret] # to distinguish between subclass and superclass columns\n",
        "    return ret\n",
        "\n",
        "# Apply diagnostic subclass\n",
        "Y['diagnostic_subclass'] = Y.scp_codes.apply(aggregate_subclass_diagnostic)\n",
        "Y['diagnostic_subclass_len'] = Y['diagnostic_subclass'].apply(len)\n",
        "Y.loc[Y.diagnostic_subclass_len > 1, 'diagnostic_subclass']"
      ],
      "execution_count": 29,
      "outputs": [
        {
          "output_type": "execute_result",
          "data": {
            "text/plain": [
              "ecg_id\n",
              "26                    [sub_STTC, sub_NST_]\n",
              "28                    [sub_STTC, sub_NST_]\n",
              "39           [sub_STTC, sub_IMI, sub_NST_]\n",
              "45       [sub_RVH, sub_IRBBB, sub_RAO/RAE]\n",
              "50                     [sub_LMI, sub_IVCD]\n",
              "                       ...                \n",
              "21821                [sub_NORM, sub_IRBBB]\n",
              "21827                  [sub_ISCA, sub_IMI]\n",
              "21828                  [sub_ISCA, sub_IMI]\n",
              "21829                [sub_NORM, sub_IRBBB]\n",
              "21832            [sub_LAFB/LPFB, sub_IVCD]\n",
              "Name: diagnostic_subclass, Length: 6191, dtype: object"
            ]
          },
          "metadata": {
            "tags": []
          },
          "execution_count": 29
        }
      ]
    },
    {
      "cell_type": "code",
      "metadata": {
        "colab": {
          "base_uri": "https://localhost:8080/",
          "height": 409
        },
        "id": "mHGDQexFHNG1",
        "outputId": "580d6bfb-6d22-4ffb-abba-116ee56a04d5"
      },
      "source": [
        "vc = Y['diagnostic_subclass_len'].value_counts()\n",
        "\n",
        "sns.set_style(\"whitegrid\")\n",
        "bar,ax = plt.subplots(figsize=(10,6))\n",
        "ax = sns.barplot(x=vc.values/vc.values.sum()*100., y=vc.index, ci=None, palette=\"muted\",orient='h' )\n",
        "ax.set_title(\"Diagnostic Subclass Length Distribution\", fontsize=20)\n",
        "ax.set_xlabel (\"percentage over all samples\")\n",
        "ax.set_ylabel (\"diagnostic_subclass_len\")\n",
        "for rect in ax.patches:\n",
        "    ax.text (rect.get_width(), rect.get_y() + rect.get_height() / 2,\"%.1f%%\"% rect.get_width(), weight='bold' )"
      ],
      "execution_count": 30,
      "outputs": [
        {
          "output_type": "display_data",
          "data": {
            "image/png": "[encoded data removed]",
            "text/plain": [
              "<Figure size 720x432 with 1 Axes>"
            ]
          },
          "metadata": {
            "tags": []
          }
        }
      ]
    },
    {
      "cell_type": "markdown",
      "metadata": {
        "id": "ISR-jU4mHXPM"
      },
      "source": [
        "There could be up to 6 sub class for the same ecg record!"
      ]
    },
    {
      "cell_type": "code",
      "metadata": {
        "colab": {
          "base_uri": "https://localhost:8080/"
        },
        "id": "qtB3cfs5Hb4p",
        "outputId": "39caf578-6fda-4e43-fc8a-362064a510bd"
      },
      "source": [
        "Y.columns.tolist()"
      ],
      "execution_count": 31,
      "outputs": [
        {
          "output_type": "execute_result",
          "data": {
            "text/plain": [
              "['patient_id',\n",
              " 'age',\n",
              " 'sex',\n",
              " 'height',\n",
              " 'weight',\n",
              " 'nurse',\n",
              " 'site',\n",
              " 'device',\n",
              " 'recording_date',\n",
              " 'report',\n",
              " 'scp_codes',\n",
              " 'heart_axis',\n",
              " 'infarction_stadium1',\n",
              " 'infarction_stadium2',\n",
              " 'validated_by',\n",
              " 'second_opinion',\n",
              " 'initial_autogenerated_report',\n",
              " 'validated_by_human',\n",
              " 'baseline_drift',\n",
              " 'static_noise',\n",
              " 'burst_noise',\n",
              " 'electrodes_problems',\n",
              " 'extra_beats',\n",
              " 'pacemaker',\n",
              " 'strat_fold',\n",
              " 'filename_lr',\n",
              " 'filename_hr',\n",
              " 'diagnostic_superclass',\n",
              " 'diagnostic_superclass_len',\n",
              " 'diagnostic_subclass',\n",
              " 'diagnostic_subclass_len']"
            ]
          },
          "metadata": {
            "tags": []
          },
          "execution_count": 31
        }
      ]
    },
    {
      "cell_type": "markdown",
      "metadata": {
        "id": "_m6qCSWkHiJZ"
      },
      "source": [
        "#Reformat Data for EDA¶"
      ]
    },
    {
      "cell_type": "code",
      "metadata": {
        "id": "H8fhhWv6HccP"
      },
      "source": [
        "all_superclass = pd.Series(np.concatenate(Y['diagnostic_superclass'].values))\n",
        "all_subclass = pd.Series(np.concatenate(Y['diagnostic_subclass'].values))\n",
        "superclass_cols = all_superclass.unique()\n",
        "subclass_cols = all_subclass.unique()\n",
        "update_cols = np.concatenate([superclass_cols, subclass_cols]) # add meta data columns\n",
        "meta_cols = ['age', 'sex', 'height', 'weight', 'nurse', 'site', 'device',] # could add more columns as features"
      ],
      "execution_count": 32,
      "outputs": []
    },
    {
      "cell_type": "code",
      "metadata": {
        "id": "eNSDzEPXHuvK"
      },
      "source": [
        "class ClassUpdate():\n",
        "    def __init__(self, cols):\n",
        "        self.cols = cols\n",
        "\n",
        "    def __call__(self, row):\n",
        "        for sc in row['diagnostic_superclass']:\n",
        "            row[sc] = 1\n",
        "        for sc in row['diagnostic_subclass']:\n",
        "            row[sc] = 1\n",
        "            \n",
        "        return row\n",
        "\n",
        "def get_data_by_folds(folds, x, y, update_cols, feature_cols):\n",
        "    assert len(folds)  > 0, '# of provided folds should longer than 1'\n",
        "    #print(y.strat_fold)\n",
        "    filt = np.isin(y.strat_fold.values, folds)\n",
        "    x_selected = x[filt]\n",
        "    y_selected = y[filt]\n",
        "    \n",
        "    for sc in update_cols:\n",
        "        y_selected[sc] = 0\n",
        "        \n",
        "    cls_updt = ClassUpdate(update_cols)\n",
        "    \n",
        "    y_selected = y_selected.apply(cls_updt, axis=1)\n",
        "    \n",
        "    return x_selected, y_selected[list(feature_cols)+list(update_cols)+['strat_fold']]"
      ],
      "execution_count": 47,
      "outputs": []
    },
    {
      "cell_type": "code",
      "metadata": {
        "colab": {
          "base_uri": "https://localhost:8080/",
          "height": 163
        },
        "id": "5CsC9T9BIBYF",
        "outputId": "e889b6bf-8f4a-44e2-d0d6-fc35054f4a55"
      },
      "source": [
        "x_all, y_all = get_data_by_folds(np.arange(1, 11), update_cols,feature_cols )"
      ],
      "execution_count": 46,
      "outputs": [
        {
          "output_type": "error",
          "ename": "NameError",
          "evalue": "ignored",
          "traceback": [
            "\u001b[0;31m---------------------------------------------------------------------------\u001b[0m",
            "\u001b[0;31mNameError\u001b[0m                                 Traceback (most recent call last)",
            "\u001b[0;32m<ipython-input-46-342903dc8e41>\u001b[0m in \u001b[0;36m<module>\u001b[0;34m()\u001b[0m\n\u001b[0;32m----> 1\u001b[0;31m \u001b[0mx_all\u001b[0m\u001b[0;34m,\u001b[0m \u001b[0my_all\u001b[0m \u001b[0;34m=\u001b[0m \u001b[0mget_data_by_folds\u001b[0m\u001b[0;34m(\u001b[0m\u001b[0mnp\u001b[0m\u001b[0;34m.\u001b[0m\u001b[0marange\u001b[0m\u001b[0;34m(\u001b[0m\u001b[0;36m1\u001b[0m\u001b[0;34m,\u001b[0m \u001b[0;36m11\u001b[0m\u001b[0;34m)\u001b[0m\u001b[0;34m,\u001b[0m \u001b[0mupdate_cols\u001b[0m\u001b[0;34m,\u001b[0m\u001b[0mfeature_cols\u001b[0m \u001b[0;34m)\u001b[0m\u001b[0;34m\u001b[0m\u001b[0;34m\u001b[0m\u001b[0m\n\u001b[0m",
            "\u001b[0;31mNameError\u001b[0m: name 'feature_cols' is not defined"
          ]
        }
      ]
    },
    {
      "cell_type": "code",
      "metadata": {
        "id": "TMzRAWgOIMn9"
      },
      "source": [
        ""
      ],
      "execution_count": null,
      "outputs": []
    }
  ]
}